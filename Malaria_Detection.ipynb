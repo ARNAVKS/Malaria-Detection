{
  "nbformat": 4,
  "nbformat_minor": 0,
  "metadata": {
    "colab": {
      "provenance": [],
      "gpuType": "T4",
      "authorship_tag": "ABX9TyPpAgNq6BSpk/URZEygsG+7",
      "include_colab_link": true
    },
    "kernelspec": {
      "name": "python3",
      "display_name": "Python 3"
    },
    "language_info": {
      "name": "python"
    },
    "accelerator": "GPU"
  },
  "cells": [
    {
      "cell_type": "markdown",
      "metadata": {
        "id": "view-in-github",
        "colab_type": "text"
      },
      "source": [
        "<a href=\"https://colab.research.google.com/github/ARNAVKS/Maleria-Detection/blob/main/Malaria_Detection.ipynb\" target=\"_parent\"><img src=\"https://colab.research.google.com/assets/colab-badge.svg\" alt=\"Open In Colab\"/></a>"
      ]
    },
    {
      "cell_type": "code",
      "source": [
        "!mkdir -p ~/.kaggle\n",
        "!cp kaggle.json ~/.kaggle/\n",
        "!chmod 600 ~/.kaggle/kaggle.json"
      ],
      "metadata": {
        "id": "DeOV8dl-5yTw"
      },
      "execution_count": 1,
      "outputs": []
    },
    {
      "cell_type": "code",
      "execution_count": 2,
      "metadata": {
        "colab": {
          "base_uri": "https://localhost:8080/"
        },
        "id": "7KsNySWe5nPE",
        "outputId": "e0ae41df-f5a6-4388-ad85-c245e57b3431"
      },
      "outputs": [
        {
          "output_type": "stream",
          "name": "stdout",
          "text": [
            "cell-images-for-detecting-malaria.zip: Skipping, found more recently modified local copy (use --force to force download)\n"
          ]
        }
      ],
      "source": [
        "!kaggle datasets download -d iarunava/cell-images-for-detecting-malaria"
      ]
    },
    {
      "cell_type": "code",
      "source": [
        "from zipfile import ZipFile\n",
        "dataset = '/content/cell-images-for-detecting-malaria.zip'\n",
        "\n",
        "with ZipFile(dataset,'r') as zip:\n",
        "  zip.extractall()\n",
        "  print('Extracted')"
      ],
      "metadata": {
        "colab": {
          "base_uri": "https://localhost:8080/"
        },
        "id": "XY1Z7j_55y88",
        "outputId": "f77adf2c-0cb0-4fe8-a19e-08f5237ed21e"
      },
      "execution_count": 3,
      "outputs": [
        {
          "output_type": "stream",
          "name": "stdout",
          "text": [
            "Extracted\n"
          ]
        }
      ]
    },
    {
      "cell_type": "code",
      "source": [
        "import os"
      ],
      "metadata": {
        "id": "XyXMaGC86EF0"
      },
      "execution_count": 4,
      "outputs": []
    },
    {
      "cell_type": "code",
      "source": [
        "defected_files_=os.listdir('/content/cell_images/Parasitized')\n",
        "normal_files_=os.listdir('/content/cell_images/Uninfected')"
      ],
      "metadata": {
        "id": "fVV7aqte75LJ"
      },
      "execution_count": 5,
      "outputs": []
    },
    {
      "cell_type": "code",
      "source": [
        "defected_files=[]\n",
        "for files in defected_files_:\n",
        "  if files.split('.')[1]!='db':\n",
        "    defected_files.append(files)\n",
        "normal_files=[]\n",
        "for files in normal_files_:\n",
        "  if files.split('.')[1]!='db':\n",
        "    normal_files.append(files)"
      ],
      "metadata": {
        "id": "meUhcR-OFueM"
      },
      "execution_count": 6,
      "outputs": []
    },
    {
      "cell_type": "code",
      "source": [
        "print(len(defected_files))\n",
        "len(normal_files)"
      ],
      "metadata": {
        "colab": {
          "base_uri": "https://localhost:8080/"
        },
        "id": "odiNARdA8g1Y",
        "outputId": "da1a6b34-e7db-4aee-cd89-e83ec49b4610"
      },
      "execution_count": 7,
      "outputs": [
        {
          "output_type": "stream",
          "name": "stdout",
          "text": [
            "13779\n"
          ]
        },
        {
          "output_type": "execute_result",
          "data": {
            "text/plain": [
              "13779"
            ]
          },
          "metadata": {},
          "execution_count": 7
        }
      ]
    },
    {
      "cell_type": "code",
      "source": [
        "defected_files=defected_files[:4000]"
      ],
      "metadata": {
        "id": "P-ngOcaq8m8u"
      },
      "execution_count": 8,
      "outputs": []
    },
    {
      "cell_type": "code",
      "source": [
        "normal_files=normal_files[:4000]"
      ],
      "metadata": {
        "id": "7c91HP8WCS-J"
      },
      "execution_count": 9,
      "outputs": []
    },
    {
      "cell_type": "code",
      "source": [
        "import cv2\n",
        "t=cv2.imread('/content/cell_images/Parasitized/C101P62ThinF_IMG_20150918_151942_cell_68.png')"
      ],
      "metadata": {
        "id": "j14X7ZsZCVcJ"
      },
      "execution_count": 10,
      "outputs": []
    },
    {
      "cell_type": "code",
      "source": [
        "t.shape"
      ],
      "metadata": {
        "colab": {
          "base_uri": "https://localhost:8080/"
        },
        "id": "4hHrL9KUC84S",
        "outputId": "516c4df6-ffd2-40c0-c739-b21343e96128"
      },
      "execution_count": 11,
      "outputs": [
        {
          "output_type": "execute_result",
          "data": {
            "text/plain": [
              "(157, 148, 3)"
            ]
          },
          "metadata": {},
          "execution_count": 11
        }
      ]
    },
    {
      "cell_type": "code",
      "source": [
        "defected_label=[1]*4000\n",
        "normal_label=[0]*4000"
      ],
      "metadata": {
        "id": "VpieN9kAHKCf"
      },
      "execution_count": 12,
      "outputs": []
    },
    {
      "cell_type": "code",
      "source": [
        "label=defected_label+normal_label"
      ],
      "metadata": {
        "id": "twmhvubYHYa2"
      },
      "execution_count": 13,
      "outputs": []
    },
    {
      "cell_type": "code",
      "source": [
        "len(label)"
      ],
      "metadata": {
        "colab": {
          "base_uri": "https://localhost:8080/"
        },
        "id": "PmjnmLUnHeMV",
        "outputId": "8a581c9f-2d18-449d-867f-a847ca019a75"
      },
      "execution_count": 14,
      "outputs": [
        {
          "output_type": "execute_result",
          "data": {
            "text/plain": [
              "8000"
            ]
          },
          "metadata": {},
          "execution_count": 14
        }
      ]
    },
    {
      "cell_type": "code",
      "source": [
        "data=[]\n",
        "path='/content/cell_images/Parasitized/'\n",
        "for img in defected_files:\n",
        "  image=cv2.imread(path+img)\n",
        "  image=cv2.resize(image,(128,128))\n",
        "  data.append(image)\n",
        "path='/content/cell_images/Uninfected/'\n",
        "for img in normal_files:\n",
        "  image=cv2.imread(path+img)\n",
        "  image=cv2.resize(image,(128,128))\n",
        "  data.append(image)"
      ],
      "metadata": {
        "id": "cNbivMMSGrw7"
      },
      "execution_count": 15,
      "outputs": []
    },
    {
      "cell_type": "code",
      "source": [
        "len(data)"
      ],
      "metadata": {
        "colab": {
          "base_uri": "https://localhost:8080/"
        },
        "id": "HU-NPgslEGjI",
        "outputId": "1f3bff93-6a52-41bf-b553-c111dc6c4462"
      },
      "execution_count": 16,
      "outputs": [
        {
          "output_type": "execute_result",
          "data": {
            "text/plain": [
              "8000"
            ]
          },
          "metadata": {},
          "execution_count": 16
        }
      ]
    },
    {
      "cell_type": "code",
      "source": [
        "import numpy as np"
      ],
      "metadata": {
        "id": "Wb8iH8-yHBBF"
      },
      "execution_count": 17,
      "outputs": []
    },
    {
      "cell_type": "code",
      "source": [
        "X=np.array(data)\n",
        "y=np.array(label)"
      ],
      "metadata": {
        "id": "8uS9MY1yH9z1"
      },
      "execution_count": 18,
      "outputs": []
    },
    {
      "cell_type": "code",
      "source": [
        "X.shape"
      ],
      "metadata": {
        "colab": {
          "base_uri": "https://localhost:8080/"
        },
        "id": "VCXw3bGkIFrj",
        "outputId": "1af52241-ca7c-4285-95b9-151a0d3cfe26"
      },
      "execution_count": 19,
      "outputs": [
        {
          "output_type": "execute_result",
          "data": {
            "text/plain": [
              "(8000, 128, 128, 3)"
            ]
          },
          "metadata": {},
          "execution_count": 19
        }
      ]
    },
    {
      "cell_type": "code",
      "source": [
        "y.shape"
      ],
      "metadata": {
        "colab": {
          "base_uri": "https://localhost:8080/"
        },
        "id": "czsY7ZNSIQYR",
        "outputId": "14f7984a-b943-47b1-c9fe-9e14ba821f34"
      },
      "execution_count": 20,
      "outputs": [
        {
          "output_type": "execute_result",
          "data": {
            "text/plain": [
              "(8000,)"
            ]
          },
          "metadata": {},
          "execution_count": 20
        }
      ]
    },
    {
      "cell_type": "code",
      "source": [
        "from sklearn.model_selection import train_test_split"
      ],
      "metadata": {
        "id": "xhoKFuLkITiN"
      },
      "execution_count": 21,
      "outputs": []
    },
    {
      "cell_type": "code",
      "source": [
        "X_train,X_test,y_train,y_test=train_test_split(X,y,test_size=0.28,random_state=42)"
      ],
      "metadata": {
        "id": "L_kAk3FJIbKV"
      },
      "execution_count": 22,
      "outputs": []
    },
    {
      "cell_type": "code",
      "source": [
        "X_train.shape,X_test.shape"
      ],
      "metadata": {
        "colab": {
          "base_uri": "https://localhost:8080/"
        },
        "id": "9WikLHP5Io_y",
        "outputId": "4a7cdc29-022f-41dc-bbd3-060efd1a21e2"
      },
      "execution_count": 23,
      "outputs": [
        {
          "output_type": "execute_result",
          "data": {
            "text/plain": [
              "((5760, 128, 128, 3), (2240, 128, 128, 3))"
            ]
          },
          "metadata": {},
          "execution_count": 23
        }
      ]
    },
    {
      "cell_type": "code",
      "source": [
        "X_train_scaled,X_test_scaled=X_train/255,X_test/255"
      ],
      "metadata": {
        "id": "VfDoQ_OMItUS"
      },
      "execution_count": 24,
      "outputs": []
    },
    {
      "cell_type": "code",
      "source": [
        "from tensorflow.keras import models, layers"
      ],
      "metadata": {
        "id": "Um_GMUikI4Bd"
      },
      "execution_count": 25,
      "outputs": []
    },
    {
      "cell_type": "code",
      "source": [
        "model=models.Sequential()"
      ],
      "metadata": {
        "id": "_SorlUNFKZgk"
      },
      "execution_count": 26,
      "outputs": []
    },
    {
      "cell_type": "code",
      "source": [
        "model.add(layers.Conv2D(32,(3,3),activation='relu',input_shape=(128,128,3)))\n",
        "model.add(layers.MaxPooling2D((2,2)))\n",
        "model.add(layers.Conv2D(64,(3,3),activation='relu'))\n",
        "model.add(layers.MaxPooling2D((2,2)))\n",
        "model.add(layers.Conv2D(128,(3,3),activation='relu'))\n",
        "model.add(layers.MaxPooling2D((2,2)))\n",
        "model.add(layers.Flatten())\n",
        "model.add(layers.Dense(128,activation='relu'))\n",
        "model.add(layers.Dense(64,activation='relu'))\n",
        "model.add(layers.Dense(1,activation='sigmoid'))\n",
        "model.compile(optimizer='adam',loss='binary_crossentropy',metrics=['accuracy'])"
      ],
      "metadata": {
        "id": "PLi7xJdNK2aY"
      },
      "execution_count": 27,
      "outputs": []
    },
    {
      "cell_type": "code",
      "source": [
        "model.summary()"
      ],
      "metadata": {
        "colab": {
          "base_uri": "https://localhost:8080/"
        },
        "id": "vnGpNxinVAs0",
        "outputId": "44493c68-264d-41d7-d759-fd41f990069e"
      },
      "execution_count": 28,
      "outputs": [
        {
          "output_type": "stream",
          "name": "stdout",
          "text": [
            "Model: \"sequential\"\n",
            "_________________________________________________________________\n",
            " Layer (type)                Output Shape              Param #   \n",
            "=================================================================\n",
            " conv2d (Conv2D)             (None, 126, 126, 32)      896       \n",
            "                                                                 \n",
            " max_pooling2d (MaxPooling2  (None, 63, 63, 32)        0         \n",
            " D)                                                              \n",
            "                                                                 \n",
            " conv2d_1 (Conv2D)           (None, 61, 61, 64)        18496     \n",
            "                                                                 \n",
            " max_pooling2d_1 (MaxPoolin  (None, 30, 30, 64)        0         \n",
            " g2D)                                                            \n",
            "                                                                 \n",
            " conv2d_2 (Conv2D)           (None, 28, 28, 128)       73856     \n",
            "                                                                 \n",
            " max_pooling2d_2 (MaxPoolin  (None, 14, 14, 128)       0         \n",
            " g2D)                                                            \n",
            "                                                                 \n",
            " flatten (Flatten)           (None, 25088)             0         \n",
            "                                                                 \n",
            " dense (Dense)               (None, 128)               3211392   \n",
            "                                                                 \n",
            " dense_1 (Dense)             (None, 64)                8256      \n",
            "                                                                 \n",
            " dense_2 (Dense)             (None, 1)                 65        \n",
            "                                                                 \n",
            "=================================================================\n",
            "Total params: 3312961 (12.64 MB)\n",
            "Trainable params: 3312961 (12.64 MB)\n",
            "Non-trainable params: 0 (0.00 Byte)\n",
            "_________________________________________________________________\n"
          ]
        }
      ]
    },
    {
      "cell_type": "code",
      "source": [
        "model.fit(X_train_scaled,y_train,epochs=20,validation_split=0.1)"
      ],
      "metadata": {
        "colab": {
          "base_uri": "https://localhost:8080/"
        },
        "id": "QvgUsSrmVDqU",
        "outputId": "71570e39-f175-48f6-e625-507fc6226453"
      },
      "execution_count": 29,
      "outputs": [
        {
          "output_type": "stream",
          "name": "stdout",
          "text": [
            "Epoch 1/20\n",
            "162/162 [==============================] - 10s 24ms/step - loss: 0.6201 - accuracy: 0.6580 - val_loss: 0.3539 - val_accuracy: 0.8767\n",
            "Epoch 2/20\n",
            "162/162 [==============================] - 3s 19ms/step - loss: 0.2702 - accuracy: 0.9041 - val_loss: 0.1843 - val_accuracy: 0.9288\n",
            "Epoch 3/20\n",
            "162/162 [==============================] - 3s 18ms/step - loss: 0.1965 - accuracy: 0.9294 - val_loss: 0.1394 - val_accuracy: 0.9531\n",
            "Epoch 4/20\n",
            "162/162 [==============================] - 3s 18ms/step - loss: 0.1463 - accuracy: 0.9533 - val_loss: 0.1317 - val_accuracy: 0.9566\n",
            "Epoch 5/20\n",
            "162/162 [==============================] - 3s 18ms/step - loss: 0.1326 - accuracy: 0.9570 - val_loss: 0.1301 - val_accuracy: 0.9601\n",
            "Epoch 6/20\n",
            "162/162 [==============================] - 3s 20ms/step - loss: 0.0873 - accuracy: 0.9697 - val_loss: 0.1193 - val_accuracy: 0.9549\n",
            "Epoch 7/20\n",
            "162/162 [==============================] - 3s 18ms/step - loss: 0.0595 - accuracy: 0.9807 - val_loss: 0.1790 - val_accuracy: 0.9479\n",
            "Epoch 8/20\n",
            "162/162 [==============================] - 3s 18ms/step - loss: 0.0416 - accuracy: 0.9857 - val_loss: 0.1639 - val_accuracy: 0.9531\n",
            "Epoch 9/20\n",
            "162/162 [==============================] - 3s 18ms/step - loss: 0.0274 - accuracy: 0.9913 - val_loss: 0.2121 - val_accuracy: 0.9514\n",
            "Epoch 10/20\n",
            "162/162 [==============================] - 3s 20ms/step - loss: 0.0170 - accuracy: 0.9940 - val_loss: 0.2574 - val_accuracy: 0.9549\n",
            "Epoch 11/20\n",
            "162/162 [==============================] - 3s 19ms/step - loss: 0.0214 - accuracy: 0.9932 - val_loss: 0.2407 - val_accuracy: 0.9497\n",
            "Epoch 12/20\n",
            "162/162 [==============================] - 3s 18ms/step - loss: 0.0272 - accuracy: 0.9911 - val_loss: 0.2909 - val_accuracy: 0.9549\n",
            "Epoch 13/20\n",
            "162/162 [==============================] - 3s 18ms/step - loss: 0.0091 - accuracy: 0.9983 - val_loss: 0.3503 - val_accuracy: 0.9410\n",
            "Epoch 14/20\n",
            "162/162 [==============================] - 3s 20ms/step - loss: 5.6237e-04 - accuracy: 1.0000 - val_loss: 0.4364 - val_accuracy: 0.9497\n",
            "Epoch 15/20\n",
            "162/162 [==============================] - 3s 20ms/step - loss: 2.4450e-04 - accuracy: 1.0000 - val_loss: 0.4521 - val_accuracy: 0.9497\n",
            "Epoch 16/20\n",
            "162/162 [==============================] - 3s 18ms/step - loss: 1.1451e-04 - accuracy: 1.0000 - val_loss: 0.4700 - val_accuracy: 0.9514\n",
            "Epoch 17/20\n",
            "162/162 [==============================] - 3s 18ms/step - loss: 5.9276e-05 - accuracy: 1.0000 - val_loss: 0.4789 - val_accuracy: 0.9514\n",
            "Epoch 18/20\n",
            "162/162 [==============================] - 3s 18ms/step - loss: 4.3707e-05 - accuracy: 1.0000 - val_loss: 0.4897 - val_accuracy: 0.9514\n",
            "Epoch 19/20\n",
            "162/162 [==============================] - 3s 20ms/step - loss: 3.4880e-05 - accuracy: 1.0000 - val_loss: 0.4994 - val_accuracy: 0.9514\n",
            "Epoch 20/20\n",
            "162/162 [==============================] - 3s 18ms/step - loss: 2.8296e-05 - accuracy: 1.0000 - val_loss: 0.5091 - val_accuracy: 0.9514\n"
          ]
        },
        {
          "output_type": "execute_result",
          "data": {
            "text/plain": [
              "<keras.src.callbacks.History at 0x7905e4c27010>"
            ]
          },
          "metadata": {},
          "execution_count": 29
        }
      ]
    },
    {
      "cell_type": "code",
      "source": [
        "model.evaluate(X_test_scaled,y_test)"
      ],
      "metadata": {
        "id": "6vCc1wDIbG4Y",
        "colab": {
          "base_uri": "https://localhost:8080/"
        },
        "outputId": "4fcd5996-6f0f-4983-a4e9-32a43b57457c"
      },
      "execution_count": 30,
      "outputs": [
        {
          "output_type": "stream",
          "name": "stdout",
          "text": [
            "70/70 [==============================] - 1s 7ms/step - loss: 0.4999 - accuracy: 0.9487\n"
          ]
        },
        {
          "output_type": "execute_result",
          "data": {
            "text/plain": [
              "[0.49991869926452637, 0.9486607313156128]"
            ]
          },
          "metadata": {},
          "execution_count": 30
        }
      ]
    },
    {
      "cell_type": "code",
      "source": [
        "y_train_pred=model.predict(X_train_scaled)\n",
        "y_train_pred=[np.round(i) for i in y_train_pred]\n",
        "y_test_pred=model.predict(X_test_scaled)\n",
        "y_test_pred=[np.round(i) for i in y_test_pred]"
      ],
      "metadata": {
        "id": "Ug2u5Qe4f6CJ",
        "colab": {
          "base_uri": "https://localhost:8080/"
        },
        "outputId": "24ac9d49-7a27-4824-f58b-ac64f72fb239"
      },
      "execution_count": 31,
      "outputs": [
        {
          "output_type": "stream",
          "name": "stdout",
          "text": [
            "180/180 [==============================] - 2s 9ms/step\n",
            "70/70 [==============================] - 0s 7ms/step\n"
          ]
        }
      ]
    },
    {
      "cell_type": "code",
      "source": [
        "from sklearn.metrics import accuracy_score"
      ],
      "metadata": {
        "id": "6KD7SoHShCYx"
      },
      "execution_count": 32,
      "outputs": []
    },
    {
      "cell_type": "code",
      "source": [
        "accuracy_score(y_train,y_train_pred)"
      ],
      "metadata": {
        "id": "zBK-ibInhGwM",
        "colab": {
          "base_uri": "https://localhost:8080/"
        },
        "outputId": "e5990c77-7259-4dbe-b3ee-100a9e132e43"
      },
      "execution_count": 33,
      "outputs": [
        {
          "output_type": "execute_result",
          "data": {
            "text/plain": [
              "0.9951388888888889"
            ]
          },
          "metadata": {},
          "execution_count": 33
        }
      ]
    },
    {
      "cell_type": "code",
      "source": [
        "accuracy_score(y_test,y_test_pred)"
      ],
      "metadata": {
        "id": "6Uyj8T3xhUS2",
        "colab": {
          "base_uri": "https://localhost:8080/"
        },
        "outputId": "895c6c8f-1f55-4ad1-a67d-7e5c0540398d"
      },
      "execution_count": 34,
      "outputs": [
        {
          "output_type": "execute_result",
          "data": {
            "text/plain": [
              "0.9486607142857143"
            ]
          },
          "metadata": {},
          "execution_count": 34
        }
      ]
    }
  ]
}